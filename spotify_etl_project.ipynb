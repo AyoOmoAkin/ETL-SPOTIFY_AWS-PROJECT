{
 "cells": [
  {
   "cell_type": "code",
   "execution_count": 1,
   "id": "2e98f996-68a4-42e8-94d9-8fb97668666f",
   "metadata": {},
   "outputs": [],
   "source": [
    "import spotipy\n",
    "from spotipy.oauth2 import SpotifyClientCredentials\n",
    "import os"
   ]
  },
  {
   "cell_type": "code",
   "execution_count": 2,
   "id": "323d2755-92cb-433f-9693-d136d183b232",
   "metadata": {},
   "outputs": [],
   "source": [
    "client_id = os.getenv('SPOTIFY_CLIENT_ID')\n",
    "client_secret = os.getenv('SPOTIFY_CLIENT_SECRET')"
   ]
  },
  {
   "cell_type": "code",
   "execution_count": 4,
   "id": "39ff8741-2499-4a33-a278-2ae7c09f7f44",
   "metadata": {},
   "outputs": [],
   "source": [
    "spotify = spotipy.Spotify(client_credentials_manager=SpotifyClientCredentials(client_id = client_id, client_secret = client_secret))"
   ]
  },
  {
   "cell_type": "code",
   "execution_count": 5,
   "id": "cf981e03-63f5-4f7e-a309-24278f256936",
   "metadata": {},
   "outputs": [
    {
     "data": {
      "text/plain": [
       "{'ALLUSERSPROFILE': 'C:\\\\ProgramData',\n",
       " 'APPDATA': 'C:\\\\Users\\\\igboa\\\\AppData\\\\Roaming',\n",
       " 'COMMONPROGRAMFILES': 'C:\\\\Program Files\\\\Common Files',\n",
       " 'COMMONPROGRAMFILES(X86)': 'C:\\\\Program Files (x86)\\\\Common Files',\n",
       " 'COMMONPROGRAMW6432': 'C:\\\\Program Files\\\\Common Files',\n",
       " 'COMPUTERNAME': 'TOLUENI',\n",
       " 'COMSPEC': 'C:\\\\windows\\\\system32\\\\cmd.exe',\n",
       " 'DRIVERDATA': 'C:\\\\Windows\\\\System32\\\\Drivers\\\\DriverData',\n",
       " 'HOMEDRIVE': 'C:',\n",
       " 'HOMEPATH': '\\\\Users\\\\igboa',\n",
       " 'IGCCSVC_DB': 'AQAAANCMnd8BFdERjHoAwE/Cl+sBAAAAaiivJJTqQUifu6dG5mPZIgQAAAACAAAAAAAQZgAAAAEAACAAAACFVNppxaGYpcO1J480o+U/KbpZiIc3ntXa8bIKp4nJ6AAAAAAOgAAAAAIAACAAAABbeX7p5F1BnuitSxgXvQy59trFnfFN/t3H2pMnlG+R9GAAAAAF9D5o6pxaLQef8+dGenYRZ6uma+fImKPoyM80c5sNM/K3XXz4CmfqbjpXdOKxuu081KTwmGH/UozkMZwVN0LHdWkWhx+WMzXn1xosSGyS16S+wDvwjU81da21lMA6+3JAAAAABAlPlcVCeS2e7Iq76umtoki38wTXTGw8kymYJjZj94MJQVQLV6WmYDJMDfrlx5keJUMtfZrK7soEPl5Nz1Mtcw==',\n",
       " 'LOCALAPPDATA': 'C:\\\\Users\\\\igboa\\\\AppData\\\\Local',\n",
       " 'LOGONSERVER': '\\\\\\\\TOLUENI',\n",
       " 'NUMBER_OF_PROCESSORS': '20',\n",
       " 'ONEDRIVE': 'C:\\\\Users\\\\igboa\\\\OneDrive',\n",
       " 'ONEDRIVECONSUMER': 'C:\\\\Users\\\\igboa\\\\OneDrive',\n",
       " 'ONLINESERVICES': 'Online Services',\n",
       " 'OS': 'Windows_NT',\n",
       " 'PATH': 'C:\\\\windows\\\\system32;C:\\\\windows;C:\\\\windows\\\\System32\\\\Wbem;C:\\\\windows\\\\System32\\\\WindowsPowerShell\\\\v1.0\\\\;C:\\\\windows\\\\System32\\\\OpenSSH\\\\;C:\\\\Program Files (x86)\\\\NVIDIA Corporation\\\\PhysX\\\\Common;C:\\\\Program Files\\\\NVIDIA Corporation\\\\NVIDIA NvDLISR;C:\\\\Program Files\\\\Git\\\\cmd;C:\\\\Program Files\\\\Docker\\\\Docker\\\\resources\\\\bin;C:\\\\Users\\\\igboa\\\\AppData\\\\Local\\\\Programs\\\\Python\\\\Python311\\\\Scripts\\\\;C:\\\\Users\\\\igboa\\\\AppData\\\\Local\\\\Programs\\\\Python\\\\Python311\\\\;C:\\\\Users\\\\igboa\\\\AppData\\\\Local\\\\Microsoft\\\\WindowsApps;C:\\\\Users\\\\igboa\\\\AppData\\\\Local\\\\Programs\\\\Microsoft VS Code\\\\bin',\n",
       " 'PATHEXT': '.COM;.EXE;.BAT;.CMD;.VBS;.VBE;.JS;.JSE;.WSF;.WSH;.MSC;.CPL',\n",
       " 'PLATFORMCODE': 'M8',\n",
       " 'PROCESSOR_ARCHITECTURE': 'AMD64',\n",
       " 'PROCESSOR_IDENTIFIER': 'Intel64 Family 6 Model 186 Stepping 2, GenuineIntel',\n",
       " 'PROCESSOR_LEVEL': '6',\n",
       " 'PROCESSOR_REVISION': 'ba02',\n",
       " 'PROGRAMDATA': 'C:\\\\ProgramData',\n",
       " 'PROGRAMFILES': 'C:\\\\Program Files',\n",
       " 'PROGRAMFILES(X86)': 'C:\\\\Program Files (x86)',\n",
       " 'PROGRAMW6432': 'C:\\\\Program Files',\n",
       " 'PSMODULEPATH': 'C:\\\\Users\\\\igboa\\\\OneDrive\\\\Documents\\\\WindowsPowerShell\\\\Modules;C:\\\\Program Files\\\\WindowsPowerShell\\\\Modules;C:\\\\windows\\\\system32\\\\WindowsPowerShell\\\\v1.0\\\\Modules',\n",
       " 'PUBLIC': 'C:\\\\Users\\\\Public',\n",
       " 'REGIONCODE': 'EMEA',\n",
       " 'SPOTIFY_CLIENT_ID': 'ad64a781f19c4bf29e4920b760a24d0e',\n",
       " 'SPOTIFY_CLIENT_SECRET': '<hidden>',\n",
       " 'SYSTEMDRIVE': 'C:',\n",
       " 'SYSTEMROOT': 'C:\\\\windows',\n",
       " 'TEMP': 'C:\\\\Users\\\\igboa\\\\AppData\\\\Local\\\\Temp',\n",
       " 'TMP': 'C:\\\\Users\\\\igboa\\\\AppData\\\\Local\\\\Temp',\n",
       " 'USERDOMAIN': 'TOLUENI',\n",
       " 'USERDOMAIN_ROAMINGPROFILE': 'TOLUENI',\n",
       " 'USERNAME': 'igboa',\n",
       " 'USERPROFILE': 'C:\\\\Users\\\\igboa',\n",
       " 'WINDIR': 'C:\\\\windows',\n",
       " 'WSLENV': 'WT_SESSION::WT_PROFILE_ID',\n",
       " 'WT_PROFILE_ID': '{61c54bbd-c2c6-5271-96e7-009a87ff44bf}',\n",
       " 'WT_SESSION': 'd1defd5c-cbfd-4648-968d-d45896b82ecf',\n",
       " 'ZES_ENABLE_SYSMAN': '1',\n",
       " 'PYDEVD_USE_FRAME_EVAL': 'NO',\n",
       " 'JPY_SESSION_NAME': 'C:\\\\Users\\\\igboa\\\\OneDrive\\\\Desktop\\\\10Alytics\\\\etl_spotify\\\\spotify_etl_project.ipynb',\n",
       " 'JPY_INTERRUPT_EVENT': '3052',\n",
       " 'IPY_INTERRUPT_EVENT': '3052',\n",
       " 'JPY_PARENT_PID': '3056',\n",
       " 'TERM': 'xterm-color',\n",
       " 'CLICOLOR': '1',\n",
       " 'FORCE_COLOR': '1',\n",
       " 'CLICOLOR_FORCE': '1',\n",
       " 'PAGER': 'cat',\n",
       " 'GIT_PAGER': 'cat',\n",
       " 'MPLBACKEND': 'module://matplotlib_inline.backend_inline'}"
      ]
     },
     "execution_count": 5,
     "metadata": {},
     "output_type": "execute_result"
    }
   ],
   "source": [
    "%env"
   ]
  },
  {
   "cell_type": "code",
   "execution_count": null,
   "id": "1f8e6a9b-4369-4af3-8a30-076b7a922007",
   "metadata": {},
   "outputs": [],
   "source": []
  }
 ],
 "metadata": {
  "kernelspec": {
   "display_name": "Python 3 (ipykernel)",
   "language": "python",
   "name": "python3"
  },
  "language_info": {
   "codemirror_mode": {
    "name": "ipython",
    "version": 3
   },
   "file_extension": ".py",
   "mimetype": "text/x-python",
   "name": "python",
   "nbconvert_exporter": "python",
   "pygments_lexer": "ipython3",
   "version": "3.11.5"
  }
 },
 "nbformat": 4,
 "nbformat_minor": 5
}
